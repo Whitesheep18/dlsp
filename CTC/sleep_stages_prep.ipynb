{
 "cells": [
  {
   "cell_type": "code",
   "execution_count": 1,
   "metadata": {},
   "outputs": [],
   "source": [
    "import mne\n",
    "from pathlib import Path\n",
    "import numpy as np\n",
    "import matplotlib.pyplot as plt\n",
    "import pandas as pd\n",
    "import os"
   ]
  },
  {
   "cell_type": "code",
   "execution_count": 2,
   "metadata": {},
   "outputs": [
    {
     "name": "stdout",
     "output_type": "stream",
     "text": [
      "SC4412E0-PSG.edf\n",
      "Extracting EDF parameters from /home/annareisz/Documents/DeepLearningSignalProcessing/sleep-edf-database-expanded-1.0.0/sleep-cassette/SC4412E0-PSG.edf...\n",
      "EDF file detected\n",
      "Setting channel info structure...\n",
      "Creating raw.info structure...\n"
     ]
    },
    {
     "name": "stderr",
     "output_type": "stream",
     "text": [
      "/tmp/ipykernel_9972/3418270808.py:11: RuntimeWarning: Channels contain different highpass filters. Highest filter setting will be stored.\n",
      "  data = mne.io.read_raw_edf(sleep_data_dir / psg_file)\n",
      "/tmp/ipykernel_9972/3418270808.py:11: RuntimeWarning: Channels contain different lowpass filters. Lowest filter setting will be stored.\n",
      "  data = mne.io.read_raw_edf(sleep_data_dir / psg_file)\n",
      "/tmp/ipykernel_9972/3418270808.py:11: RuntimeWarning: Highpass cutoff frequency 16.0 is greater than lowpass cutoff frequency 0.7, setting values to 0 and Nyquist.\n",
      "  data = mne.io.read_raw_edf(sleep_data_dir / psg_file)\n"
     ]
    }
   ],
   "source": [
    "sleep_data_dir = Path(\"../../sleep-edf-database-expanded-1.0.0/sleep-cassette/\")\n",
    "file_idx = 200\n",
    "recordings = [x[:6] for x in os.listdir(sleep_data_dir)]\n",
    "psg_files = list(sleep_data_dir.glob(\"*.edf\"))\n",
    "hypnogram_files = list(sleep_data_dir.glob(\"*-Hypnogram.edf\"))\n",
    "\n",
    "# #file that starts with recordings[file_idx]\n",
    "psg_file = [x.name for x in psg_files if x.name.startswith(recordings[0]) and x.name.endswith(\"PSG.edf\")][0]\n",
    "print(psg_file)\n",
    "\n",
    "data = mne.io.read_raw_edf(sleep_data_dir / psg_file)\n",
    "raw_data = data.get_data()\n",
    "# you can get the metadata included in the file and a list of all channels:\n",
    "info = data.info\n",
    "channels = data.ch_names"
   ]
  },
  {
   "cell_type": "code",
   "execution_count": 3,
   "metadata": {},
   "outputs": [
    {
     "name": "stdout",
     "output_type": "stream",
     "text": [
      "Duration: 22 hours\n"
     ]
    }
   ],
   "source": [
    "samples = 7950000\n",
    "sampling_rate_hz = 100\n",
    "duration = samples / sampling_rate_hz\n",
    "hours = duration / 3600\n",
    "print(f\"Duration: {hours:.0f} hours\")"
   ]
  },
  {
   "cell_type": "markdown",
   "metadata": {},
   "source": [
    "# Preprocessing"
   ]
  },
  {
   "cell_type": "code",
   "execution_count": 25,
   "metadata": {},
   "outputs": [],
   "source": [
    "# turn hypnogram into 30 seconds labelled data\n",
    "def hypnogram_to_labelled_data(hypnogram, sampling_rate_hz):\n",
    "    data = []\n",
    "    for i in range(len(hypnogram)):\n",
    "        onset = hypnogram.iloc[i]['onset']\n",
    "        duration = hypnogram.iloc[i]['duration']\n",
    "        description = hypnogram.iloc[i]['description']\n",
    "        data.extend([description]*int(duration))\n",
    "    return data\n",
    "\n",
    "def chunk_data(data, window_size):\n",
    "    chunks = []\n",
    "    for i in range(0, len(data), window_size):\n",
    "        chunk = data[i:i+window_size]\n",
    "        if len(chunk) == window_size:\n",
    "            chunks.append(chunk)\n",
    "        else:\n",
    "            print('chunk is not window size, chunk size:', len(chunk), 'window size:', window_size)\n",
    "    return chunks\n",
    "\n",
    "def remove_consecutive_duplicates(arr):\n",
    "    return [arr[i] for i in range(len(arr)) if i == 0 or arr[i] != arr[i-1]]\n",
    "\n",
    "\n",
    "def find_switch_idx(arr):\n",
    "    return [i for i in range(len(arr)) if i == 0 or arr[i] != arr[i-1]]\n",
    "\n"
   ]
  },
  {
   "cell_type": "code",
   "execution_count": 30,
   "metadata": {},
   "outputs": [
    {
     "name": "stdout",
     "output_type": "stream",
     "text": [
      "0\n",
      "Extracting EDF parameters from /home/annareisz/Documents/DeepLearningSignalProcessing/sleep-edf-database-expanded-1.0.0/sleep-cassette/SC4412E0-PSG.edf...\n",
      "EDF file detected\n",
      "Setting channel info structure...\n",
      "Creating raw.info structure...\n"
     ]
    },
    {
     "name": "stderr",
     "output_type": "stream",
     "text": [
      "/tmp/ipykernel_9972/453840613.py:6: RuntimeWarning: Channels contain different highpass filters. Highest filter setting will be stored.\n",
      "  data = mne.io.read_raw_edf(sleep_data_dir / psg_file)\n",
      "/tmp/ipykernel_9972/453840613.py:6: RuntimeWarning: Channels contain different lowpass filters. Lowest filter setting will be stored.\n",
      "  data = mne.io.read_raw_edf(sleep_data_dir / psg_file)\n",
      "/tmp/ipykernel_9972/453840613.py:6: RuntimeWarning: Highpass cutoff frequency 16.0 is greater than lowpass cutoff frequency 0.7, setting values to 0 and Nyquist.\n",
      "  data = mne.io.read_raw_edf(sleep_data_dir / psg_file)\n"
     ]
    },
    {
     "name": "stdout",
     "output_type": "stream",
     "text": [
      "chunk is not window size, chunk size: 38 window size: 60\n",
      "Num chunks 47\n",
      "list indices must be integers or slices, not str\n",
      "error SC4412\n",
      "1\n",
      "Extracting EDF parameters from /home/annareisz/Documents/DeepLearningSignalProcessing/sleep-edf-database-expanded-1.0.0/sleep-cassette/SC4242E0-PSG.edf...\n",
      "EDF file detected\n",
      "Setting channel info structure...\n",
      "Creating raw.info structure...\n"
     ]
    },
    {
     "name": "stderr",
     "output_type": "stream",
     "text": [
      "/tmp/ipykernel_9972/453840613.py:6: RuntimeWarning: Channels contain different highpass filters. Highest filter setting will be stored.\n",
      "  data = mne.io.read_raw_edf(sleep_data_dir / psg_file)\n",
      "/tmp/ipykernel_9972/453840613.py:6: RuntimeWarning: Channels contain different lowpass filters. Lowest filter setting will be stored.\n",
      "  data = mne.io.read_raw_edf(sleep_data_dir / psg_file)\n",
      "/tmp/ipykernel_9972/453840613.py:6: RuntimeWarning: Highpass cutoff frequency 16.0 is greater than lowpass cutoff frequency 0.7, setting values to 0 and Nyquist.\n",
      "  data = mne.io.read_raw_edf(sleep_data_dir / psg_file)\n"
     ]
    },
    {
     "name": "stdout",
     "output_type": "stream",
     "text": [
      "chunk is not window size, chunk size: 10 window size: 60\n",
      "Num chunks 45\n",
      "list indices must be integers or slices, not str\n",
      "error SC4242\n",
      "2\n",
      "Extracting EDF parameters from /home/annareisz/Documents/DeepLearningSignalProcessing/sleep-edf-database-expanded-1.0.0/sleep-cassette/SC4272F0-PSG.edf...\n",
      "EDF file detected\n",
      "Setting channel info structure...\n",
      "Creating raw.info structure...\n"
     ]
    },
    {
     "name": "stderr",
     "output_type": "stream",
     "text": [
      "/tmp/ipykernel_9972/453840613.py:6: RuntimeWarning: Channels contain different highpass filters. Highest filter setting will be stored.\n",
      "  data = mne.io.read_raw_edf(sleep_data_dir / psg_file)\n",
      "/tmp/ipykernel_9972/453840613.py:6: RuntimeWarning: Channels contain different lowpass filters. Lowest filter setting will be stored.\n",
      "  data = mne.io.read_raw_edf(sleep_data_dir / psg_file)\n",
      "/tmp/ipykernel_9972/453840613.py:6: RuntimeWarning: Highpass cutoff frequency 16.0 is greater than lowpass cutoff frequency 0.7, setting values to 0 and Nyquist.\n",
      "  data = mne.io.read_raw_edf(sleep_data_dir / psg_file)\n"
     ]
    },
    {
     "ename": "KeyboardInterrupt",
     "evalue": "",
     "output_type": "error",
     "traceback": [
      "\u001b[0;31m---------------------------------------------------------------------------\u001b[0m",
      "\u001b[0;31mKeyboardInterrupt\u001b[0m                         Traceback (most recent call last)",
      "Cell \u001b[0;32mIn[30], line 7\u001b[0m\n\u001b[1;32m      5\u001b[0m hypnogram_file \u001b[38;5;241m=\u001b[39m [x\u001b[38;5;241m.\u001b[39mname \u001b[38;5;28;01mfor\u001b[39;00m x \u001b[38;5;129;01min\u001b[39;00m hypnogram_files \u001b[38;5;28;01mif\u001b[39;00m x\u001b[38;5;241m.\u001b[39mname\u001b[38;5;241m.\u001b[39mstartswith(recording) \u001b[38;5;129;01mand\u001b[39;00m x\u001b[38;5;241m.\u001b[39mname\u001b[38;5;241m.\u001b[39mendswith(\u001b[38;5;124m\"\u001b[39m\u001b[38;5;124mHypnogram.edf\u001b[39m\u001b[38;5;124m\"\u001b[39m)][\u001b[38;5;241m0\u001b[39m]\n\u001b[1;32m      6\u001b[0m data \u001b[38;5;241m=\u001b[39m mne\u001b[38;5;241m.\u001b[39mio\u001b[38;5;241m.\u001b[39mread_raw_edf(sleep_data_dir \u001b[38;5;241m/\u001b[39m psg_file)\n\u001b[0;32m----> 7\u001b[0m raw_data \u001b[38;5;241m=\u001b[39m data\u001b[38;5;241m.\u001b[39mget_data()\n\u001b[1;32m      9\u001b[0m \u001b[38;5;66;03m# Deal with hypnogram\u001b[39;00m\n\u001b[1;32m     10\u001b[0m hypnogram \u001b[38;5;241m=\u001b[39m mne\u001b[38;5;241m.\u001b[39mread_annotations(sleep_data_dir \u001b[38;5;241m/\u001b[39m hypnogram_file)\n",
      "File \u001b[0;32m<decorator-gen-189>:12\u001b[0m, in \u001b[0;36mget_data\u001b[0;34m(self, picks, start, stop, reject_by_annotation, return_times, units, tmin, tmax, verbose)\u001b[0m\n",
      "File \u001b[0;32m~/miniconda3/envs/dlsp/lib/python3.11/site-packages/mne/io/base.py:964\u001b[0m, in \u001b[0;36mBaseRaw.get_data\u001b[0;34m(self, picks, start, stop, reject_by_annotation, return_times, units, tmin, tmax, verbose)\u001b[0m\n\u001b[1;32m    961\u001b[0m stop \u001b[38;5;241m=\u001b[39m \u001b[38;5;28mmin\u001b[39m(\u001b[38;5;28mmax\u001b[39m(\u001b[38;5;241m0\u001b[39m, stop), \u001b[38;5;28mself\u001b[39m\u001b[38;5;241m.\u001b[39mn_times)\n\u001b[1;32m    963\u001b[0m \u001b[38;5;28;01mif\u001b[39;00m \u001b[38;5;28mlen\u001b[39m(\u001b[38;5;28mself\u001b[39m\u001b[38;5;241m.\u001b[39mannotations) \u001b[38;5;241m==\u001b[39m \u001b[38;5;241m0\u001b[39m \u001b[38;5;129;01mor\u001b[39;00m reject_by_annotation \u001b[38;5;129;01mis\u001b[39;00m \u001b[38;5;28;01mNone\u001b[39;00m:\n\u001b[0;32m--> 964\u001b[0m     getitem \u001b[38;5;241m=\u001b[39m \u001b[38;5;28mself\u001b[39m\u001b[38;5;241m.\u001b[39m_getitem(\n\u001b[1;32m    965\u001b[0m         (picks, \u001b[38;5;28mslice\u001b[39m(start, stop)), return_times\u001b[38;5;241m=\u001b[39mreturn_times\n\u001b[1;32m    966\u001b[0m     )\n\u001b[1;32m    967\u001b[0m     \u001b[38;5;28;01mif\u001b[39;00m return_times:\n\u001b[1;32m    968\u001b[0m         data, times \u001b[38;5;241m=\u001b[39m getitem\n",
      "File \u001b[0;32m~/miniconda3/envs/dlsp/lib/python3.11/site-packages/mne/io/base.py:861\u001b[0m, in \u001b[0;36mBaseRaw._getitem\u001b[0;34m(self, item, return_times)\u001b[0m\n\u001b[1;32m    859\u001b[0m     data \u001b[38;5;241m=\u001b[39m \u001b[38;5;28mself\u001b[39m\u001b[38;5;241m.\u001b[39m_data[sel, start:stop]\n\u001b[1;32m    860\u001b[0m \u001b[38;5;28;01melse\u001b[39;00m:\n\u001b[0;32m--> 861\u001b[0m     data \u001b[38;5;241m=\u001b[39m \u001b[38;5;28mself\u001b[39m\u001b[38;5;241m.\u001b[39m_read_segment(start\u001b[38;5;241m=\u001b[39mstart, stop\u001b[38;5;241m=\u001b[39mstop, sel\u001b[38;5;241m=\u001b[39msel)\n\u001b[1;32m    863\u001b[0m \u001b[38;5;28;01mif\u001b[39;00m return_times:\n\u001b[1;32m    864\u001b[0m     \u001b[38;5;66;03m# Rather than compute the entire thing just compute the subset\u001b[39;00m\n\u001b[1;32m    865\u001b[0m     \u001b[38;5;66;03m# times = self.times[start:stop]\u001b[39;00m\n\u001b[1;32m    866\u001b[0m     \u001b[38;5;66;03m# stop can be None here so don't use it directly\u001b[39;00m\n\u001b[1;32m    867\u001b[0m     times \u001b[38;5;241m=\u001b[39m np\u001b[38;5;241m.\u001b[39marange(start, start \u001b[38;5;241m+\u001b[39m data\u001b[38;5;241m.\u001b[39mshape[\u001b[38;5;241m1\u001b[39m], dtype\u001b[38;5;241m=\u001b[39m\u001b[38;5;28mfloat\u001b[39m)\n",
      "File \u001b[0;32m<decorator-gen-186>:12\u001b[0m, in \u001b[0;36m_read_segment\u001b[0;34m(self, start, stop, sel, data_buffer, verbose)\u001b[0m\n",
      "File \u001b[0;32m~/miniconda3/envs/dlsp/lib/python3.11/site-packages/mne/io/base.py:480\u001b[0m, in \u001b[0;36mBaseRaw._read_segment\u001b[0;34m(***failed resolving arguments***)\u001b[0m\n\u001b[1;32m    478\u001b[0m     \u001b[38;5;66;03m# reindex back to original file\u001b[39;00m\n\u001b[1;32m    479\u001b[0m     orig_idx \u001b[38;5;241m=\u001b[39m _convert_slice(\u001b[38;5;28mself\u001b[39m\u001b[38;5;241m.\u001b[39m_read_picks[fi][need_idx])\n\u001b[0;32m--> 480\u001b[0m     _ReadSegmentFileProtector(\u001b[38;5;28mself\u001b[39m)\u001b[38;5;241m.\u001b[39m_read_segment_file(\n\u001b[1;32m    481\u001b[0m         data[:, this_sl],\n\u001b[1;32m    482\u001b[0m         orig_idx,\n\u001b[1;32m    483\u001b[0m         fi,\n\u001b[1;32m    484\u001b[0m         \u001b[38;5;28mint\u001b[39m(start_file),\n\u001b[1;32m    485\u001b[0m         \u001b[38;5;28mint\u001b[39m(stop_file),\n\u001b[1;32m    486\u001b[0m         cals,\n\u001b[1;32m    487\u001b[0m         mult,\n\u001b[1;32m    488\u001b[0m     )\n\u001b[1;32m    489\u001b[0m     offset \u001b[38;5;241m+\u001b[39m\u001b[38;5;241m=\u001b[39m n_read\n\u001b[1;32m    490\u001b[0m \u001b[38;5;28;01mreturn\u001b[39;00m data\n",
      "File \u001b[0;32m~/miniconda3/envs/dlsp/lib/python3.11/site-packages/mne/io/base.py:2627\u001b[0m, in \u001b[0;36m_ReadSegmentFileProtector._read_segment_file\u001b[0;34m(self, data, idx, fi, start, stop, cals, mult)\u001b[0m\n\u001b[1;32m   2626\u001b[0m \u001b[38;5;28;01mdef\u001b[39;00m \u001b[38;5;21m_read_segment_file\u001b[39m(\u001b[38;5;28mself\u001b[39m, data, idx, fi, start, stop, cals, mult):\n\u001b[0;32m-> 2627\u001b[0m     \u001b[38;5;28;01mreturn\u001b[39;00m \u001b[38;5;28mself\u001b[39m\u001b[38;5;241m.\u001b[39m__raw\u001b[38;5;241m.\u001b[39m\u001b[38;5;18m__class__\u001b[39m\u001b[38;5;241m.\u001b[39m_read_segment_file(\n\u001b[1;32m   2628\u001b[0m         \u001b[38;5;28mself\u001b[39m, data, idx, fi, start, stop, cals, mult\n\u001b[1;32m   2629\u001b[0m     )\n",
      "File \u001b[0;32m~/miniconda3/envs/dlsp/lib/python3.11/site-packages/mne/io/edf/edf.py:227\u001b[0m, in \u001b[0;36mRawEDF._read_segment_file\u001b[0;34m(self, data, idx, fi, start, stop, cals, mult)\u001b[0m\n\u001b[1;32m    225\u001b[0m \u001b[38;5;28;01mdef\u001b[39;00m \u001b[38;5;21m_read_segment_file\u001b[39m(\u001b[38;5;28mself\u001b[39m, data, idx, fi, start, stop, cals, mult):\n\u001b[1;32m    226\u001b[0m \u001b[38;5;250m    \u001b[39m\u001b[38;5;124;03m\"\"\"Read a chunk of raw data.\"\"\"\u001b[39;00m\n\u001b[0;32m--> 227\u001b[0m     \u001b[38;5;28;01mreturn\u001b[39;00m _read_segment_file(\n\u001b[1;32m    228\u001b[0m         data,\n\u001b[1;32m    229\u001b[0m         idx,\n\u001b[1;32m    230\u001b[0m         fi,\n\u001b[1;32m    231\u001b[0m         start,\n\u001b[1;32m    232\u001b[0m         stop,\n\u001b[1;32m    233\u001b[0m         \u001b[38;5;28mself\u001b[39m\u001b[38;5;241m.\u001b[39m_raw_extras[fi],\n\u001b[1;32m    234\u001b[0m         \u001b[38;5;28mself\u001b[39m\u001b[38;5;241m.\u001b[39m_filenames[fi],\n\u001b[1;32m    235\u001b[0m         cals,\n\u001b[1;32m    236\u001b[0m         mult,\n\u001b[1;32m    237\u001b[0m     )\n",
      "File \u001b[0;32m~/miniconda3/envs/dlsp/lib/python3.11/site-packages/mne/io/edf/edf.py:460\u001b[0m, in \u001b[0;36m_read_segment_file\u001b[0;34m(data, idx, fi, start, stop, raw_extras, filenames, cals, mult)\u001b[0m\n\u001b[1;32m    458\u001b[0m     \u001b[38;5;28;01mif\u001b[39;00m smp_read \u001b[38;5;241m!=\u001b[39m smp_exp:\n\u001b[1;32m    459\u001b[0m         \u001b[38;5;28;01massert\u001b[39;00m (ones[i, smp_read:] \u001b[38;5;241m==\u001b[39m \u001b[38;5;241m0\u001b[39m)\u001b[38;5;241m.\u001b[39mall()  \u001b[38;5;66;03m# sanity check\u001b[39;00m\n\u001b[0;32m--> 460\u001b[0m         ones[i, :] \u001b[38;5;241m=\u001b[39m resample(\n\u001b[1;32m    461\u001b[0m             ones[i, :smp_read]\u001b[38;5;241m.\u001b[39mastype(np\u001b[38;5;241m.\u001b[39mfloat64),\n\u001b[1;32m    462\u001b[0m             smp_exp,\n\u001b[1;32m    463\u001b[0m             smp_read,\n\u001b[1;32m    464\u001b[0m             npad\u001b[38;5;241m=\u001b[39m\u001b[38;5;241m0\u001b[39m,\n\u001b[1;32m    465\u001b[0m             axis\u001b[38;5;241m=\u001b[39m\u001b[38;5;241m-\u001b[39m\u001b[38;5;241m1\u001b[39m,\n\u001b[1;32m    466\u001b[0m         )\n\u001b[1;32m    467\u001b[0m         resampled \u001b[38;5;241m=\u001b[39m \u001b[38;5;28;01mTrue\u001b[39;00m\n\u001b[1;32m    469\u001b[0m \u001b[38;5;66;03m# give warning if we resampled a subselection\u001b[39;00m\n",
      "File \u001b[0;32m<decorator-gen-54>:12\u001b[0m, in \u001b[0;36mresample\u001b[0;34m(x, up, down, axis, window, n_jobs, pad, npad, method, verbose)\u001b[0m\n",
      "File \u001b[0;32m~/miniconda3/envs/dlsp/lib/python3.11/site-packages/mne/filter.py:1894\u001b[0m, in \u001b[0;36mresample\u001b[0;34m(***failed resolving arguments***)\u001b[0m\n\u001b[1;32m   1892\u001b[0m kwargs \u001b[38;5;241m=\u001b[39m \u001b[38;5;28mdict\u001b[39m(pad\u001b[38;5;241m=\u001b[39mpad, window\u001b[38;5;241m=\u001b[39mwindow, n_jobs\u001b[38;5;241m=\u001b[39mn_jobs)\n\u001b[1;32m   1893\u001b[0m \u001b[38;5;28;01mif\u001b[39;00m method \u001b[38;5;241m==\u001b[39m \u001b[38;5;124m\"\u001b[39m\u001b[38;5;124mfft\u001b[39m\u001b[38;5;124m\"\u001b[39m:\n\u001b[0;32m-> 1894\u001b[0m     y \u001b[38;5;241m=\u001b[39m _resample_fft(x, npad\u001b[38;5;241m=\u001b[39mnpad, ratio\u001b[38;5;241m=\u001b[39mratio, final_len\u001b[38;5;241m=\u001b[39mfinal_len, \u001b[38;5;241m*\u001b[39m\u001b[38;5;241m*\u001b[39mkwargs)\n\u001b[1;32m   1895\u001b[0m \u001b[38;5;28;01melse\u001b[39;00m:\n\u001b[1;32m   1896\u001b[0m     up, down, kwargs[\u001b[38;5;124m\"\u001b[39m\u001b[38;5;124mwindow\u001b[39m\u001b[38;5;124m\"\u001b[39m] \u001b[38;5;241m=\u001b[39m _prep_polyphase(\n\u001b[1;32m   1897\u001b[0m         ratio, x\u001b[38;5;241m.\u001b[39mshape[\u001b[38;5;241m-\u001b[39m\u001b[38;5;241m1\u001b[39m], final_len, window\n\u001b[1;32m   1898\u001b[0m     )\n",
      "File \u001b[0;32m~/miniconda3/envs/dlsp/lib/python3.11/site-packages/mne/filter.py:1990\u001b[0m, in \u001b[0;36m_resample_fft\u001b[0;34m(***failed resolving arguments***)\u001b[0m\n\u001b[1;32m   1988\u001b[0m     y \u001b[38;5;241m=\u001b[39m np\u001b[38;5;241m.\u001b[39mzeros((\u001b[38;5;28mlen\u001b[39m(x_flat), new_len \u001b[38;5;241m-\u001b[39m to_removes\u001b[38;5;241m.\u001b[39msum()), dtype\u001b[38;5;241m=\u001b[39mx_flat\u001b[38;5;241m.\u001b[39mdtype)\n\u001b[1;32m   1989\u001b[0m     \u001b[38;5;28;01mfor\u001b[39;00m xi, x_ \u001b[38;5;129;01min\u001b[39;00m \u001b[38;5;28menumerate\u001b[39m(x_flat):\n\u001b[0;32m-> 1990\u001b[0m         y[xi] \u001b[38;5;241m=\u001b[39m _fft_resample(x_, new_len, npads, to_removes, cuda_dict, pad)\n\u001b[1;32m   1991\u001b[0m \u001b[38;5;28;01melse\u001b[39;00m:\n\u001b[1;32m   1992\u001b[0m     y \u001b[38;5;241m=\u001b[39m parallel(\n\u001b[1;32m   1993\u001b[0m         p_fun(x_, new_len, npads, to_removes, cuda_dict, pad) \u001b[38;5;28;01mfor\u001b[39;00m x_ \u001b[38;5;129;01min\u001b[39;00m x_flat\n\u001b[1;32m   1994\u001b[0m     )\n",
      "File \u001b[0;32m~/miniconda3/envs/dlsp/lib/python3.11/site-packages/mne/cuda.py:356\u001b[0m, in \u001b[0;36m_fft_resample\u001b[0;34m(x, new_len, npads, to_removes, cuda_dict, pad)\u001b[0m\n\u001b[1;32m    354\u001b[0m     x_fft[nyq : nyq \u001b[38;5;241m+\u001b[39m \u001b[38;5;241m1\u001b[39m] \u001b[38;5;241m*\u001b[39m\u001b[38;5;241m=\u001b[39m \u001b[38;5;241m2\u001b[39m \u001b[38;5;28;01mif\u001b[39;00m shorter \u001b[38;5;28;01melse\u001b[39;00m \u001b[38;5;241m0.5\u001b[39m\n\u001b[1;32m    355\u001b[0m x_fft \u001b[38;5;241m*\u001b[39m\u001b[38;5;241m=\u001b[39m cuda_dict[\u001b[38;5;124m\"\u001b[39m\u001b[38;5;124mW\u001b[39m\u001b[38;5;124m\"\u001b[39m]\n\u001b[0;32m--> 356\u001b[0m y \u001b[38;5;241m=\u001b[39m cuda_dict[\u001b[38;5;124m\"\u001b[39m\u001b[38;5;124mirfft\u001b[39m\u001b[38;5;124m\"\u001b[39m](x_fft, new_len)\n\u001b[1;32m    358\u001b[0m \u001b[38;5;66;03m# now let's trim it back to the correct size (if there was padding)\u001b[39;00m\n\u001b[1;32m    359\u001b[0m \u001b[38;5;28;01mif\u001b[39;00m (to_removes \u001b[38;5;241m>\u001b[39m \u001b[38;5;241m0\u001b[39m)\u001b[38;5;241m.\u001b[39many():\n",
      "File \u001b[0;32m~/miniconda3/envs/dlsp/lib/python3.11/site-packages/scipy/fft/_backend.py:25\u001b[0m, in \u001b[0;36m_ScipyBackend.__ua_function__\u001b[0;34m(method, args, kwargs)\u001b[0m\n\u001b[1;32m     23\u001b[0m \u001b[38;5;28;01mif\u001b[39;00m fn \u001b[38;5;129;01mis\u001b[39;00m \u001b[38;5;28;01mNone\u001b[39;00m:\n\u001b[1;32m     24\u001b[0m     \u001b[38;5;28;01mreturn\u001b[39;00m \u001b[38;5;28mNotImplemented\u001b[39m\n\u001b[0;32m---> 25\u001b[0m \u001b[38;5;28;01mreturn\u001b[39;00m fn(\u001b[38;5;241m*\u001b[39margs, \u001b[38;5;241m*\u001b[39m\u001b[38;5;241m*\u001b[39mkwargs)\n",
      "File \u001b[0;32m~/miniconda3/envs/dlsp/lib/python3.11/site-packages/scipy/fft/_pocketfft/basic.py:97\u001b[0m, in \u001b[0;36mc2r\u001b[0;34m(forward, x, n, axis, norm, overwrite_x, workers, plan)\u001b[0m\n\u001b[1;32m     94\u001b[0m     tmp, _ \u001b[38;5;241m=\u001b[39m _fix_shape_1d(tmp, (n\u001b[38;5;241m/\u001b[39m\u001b[38;5;241m/\u001b[39m\u001b[38;5;241m2\u001b[39m) \u001b[38;5;241m+\u001b[39m \u001b[38;5;241m1\u001b[39m, axis)\n\u001b[1;32m     96\u001b[0m \u001b[38;5;66;03m# Note: overwrite_x is not utilized\u001b[39;00m\n\u001b[0;32m---> 97\u001b[0m \u001b[38;5;28;01mreturn\u001b[39;00m pfft\u001b[38;5;241m.\u001b[39mc2r(tmp, (axis,), n, forward, norm, \u001b[38;5;28;01mNone\u001b[39;00m, workers)\n",
      "\u001b[0;31mKeyboardInterrupt\u001b[0m: "
     ]
    }
   ],
   "source": [
    "for idx, recording in enumerate(recordings):\n",
    "    print(idx)\n",
    "    try:\n",
    "        psg_file = [x.name for x in psg_files if x.name.startswith(recording) and x.name.endswith(\"PSG.edf\")][0]\n",
    "        hypnogram_file = [x.name for x in hypnogram_files if x.name.startswith(recording) and x.name.endswith(\"Hypnogram.edf\")][0]\n",
    "        data = mne.io.read_raw_edf(sleep_data_dir / psg_file)\n",
    "        raw_data = data.get_data()\n",
    "        \n",
    "        # Deal with hypnogram\n",
    "        hypnogram = mne.read_annotations(sleep_data_dir / hypnogram_file)\n",
    "        onsets = hypnogram.onset * sampling_rate_hz\n",
    "        durations = hypnogram.duration * sampling_rate_hz\n",
    "        descriptions = hypnogram.description\n",
    "\n",
    "        # get  'EEG Fpz-Cz', 'EEG Pz-Oz', 'EOG horizontal', 'EMG submental' from raw data\n",
    "        eeg_fpz_cz = raw_data[channels.index(\"EEG Fpz-Cz\"), :]\n",
    "        eeg_pz_oz = raw_data[channels.index(\"EEG Pz-Oz\"), :]\n",
    "        eog_horizontal = raw_data[channels.index(\"EOG horizontal\"), :]\n",
    "        emg_submental = raw_data[channels.index(\"EMG submental\"), :]\n",
    "\n",
    "        # trucate last stage - I assume the last duration is actually longer than the data\n",
    "        trucate_amount = ((onsets[-1]+durations[-1])) - eeg_fpz_cz.shape[0]\n",
    "        durations[-1] = durations[-1]-trucate_amount\n",
    "\n",
    "        hypnogram = pd.DataFrame({\"onset\": onsets, \"duration\": durations, \"description\": descriptions})\n",
    "        stages = hypnogram_to_labelled_data(hypnogram, sampling_rate_hz)         \n",
    "        all_data = pd.DataFrame({\"eeg_fpz_cz\": eeg_fpz_cz, \"eeg_pz_oz\": eeg_pz_oz, \"eog_horizontal\": eog_horizontal, \"emg_submental\": emg_submental, \"stage\": stages})\n",
    "        \n",
    "        # Aggregate data to 30 second windows\n",
    "        WINDOW_SIZE_SEC = 30\n",
    "        \n",
    "        \n",
    "        def most_frequent(x):\n",
    "            return x.value_counts().index[0]\n",
    "        agg_rules = {'eeg_fpz_cz': 'mean', 'eeg_pz_oz': 'mean', 'eog_horizontal': 'mean', 'emg_submental': 'mean', 'stage': most_frequent}\n",
    "        agg_data = all_data.groupby(all_data.index // (WINDOW_SIZE_SEC*sampling_rate_hz)).agg(agg_rules)\n",
    "\n",
    "        seconds_in_30_minutes = 30*60\n",
    "\n",
    "        # Split data into 30 minute chunks\n",
    "        \n",
    "        chunks = chunk_data(agg_data, seconds_in_30_minutes // WINDOW_SIZE_SEC)\n",
    "\n",
    "        \n",
    "        # save chunks\n",
    "        print(\"Num chunks\", len(chunks))\n",
    "        for i, chunk in enumerate(chunks):\n",
    "            if len(chunk['stage'].unique()) == 1 and chunk['stage'].unique()[0] in ['Sleep stage W', 'Movement time', 'Sleep stage ?']:\n",
    "                continue\n",
    "            #print('saving', f\"sleep/{recording}-{i}.npy\")\n",
    "            np.save(f\"sleep/{recording}-{i}.npy\", chunk[['eeg_fpz_cz', 'eeg_pz_oz', 'eog_horizontal', 'emg_submental']].values)\n",
    "\n",
    "            idxs = find_switch_idx(chunk['stage'].values)\n",
    "            np.save(f\"sleep/{recording}-{i}-labels.npy\", chunk['stage'].values[idxs])\n",
    "\n",
    "            np.save(f\"sleep/{recording}-{i}-timestamps.npy\", np.array(idxs))\n",
    "            print('found one!')\n",
    "    except Exception as e:\n",
    "        print(e)\n",
    "        print('error', recording)\n",
    "        continue\n",
    "\n",
    "    \n",
    "\n",
    "    \n",
    "\n"
   ]
  },
  {
   "cell_type": "code",
   "execution_count": 33,
   "metadata": {},
   "outputs": [
    {
     "data": {
      "text/plain": [
       "array(['Sleep stage W', 'Sleep stage 1', 'Sleep stage W', 'Sleep stage 1',\n",
       "       'Sleep stage 2', 'Sleep stage 1', 'Sleep stage 2', 'Sleep stage 1',\n",
       "       'Sleep stage 2', 'Sleep stage 1', 'Sleep stage 2', 'Sleep stage W'],\n",
       "      dtype=object)"
      ]
     },
     "execution_count": 33,
     "metadata": {},
     "output_type": "execute_result"
    }
   ],
   "source": [
    "idxs = find_switch_idx(chunk['stage'].values)\n",
    "chunk['stage'].values[idxs]"
   ]
  },
  {
   "cell_type": "code",
   "execution_count": 21,
   "metadata": {},
   "outputs": [],
   "source": []
  },
  {
   "cell_type": "code",
   "execution_count": 24,
   "metadata": {},
   "outputs": [
    {
     "data": {
      "text/html": [
       "<div>\n",
       "<style scoped>\n",
       "    .dataframe tbody tr th:only-of-type {\n",
       "        vertical-align: middle;\n",
       "    }\n",
       "\n",
       "    .dataframe tbody tr th {\n",
       "        vertical-align: top;\n",
       "    }\n",
       "\n",
       "    .dataframe thead th {\n",
       "        text-align: right;\n",
       "    }\n",
       "</style>\n",
       "<table border=\"1\" class=\"dataframe\">\n",
       "  <thead>\n",
       "    <tr style=\"text-align: right;\">\n",
       "      <th></th>\n",
       "      <th>index</th>\n",
       "      <th>eeg_fpz_cz</th>\n",
       "      <th>eeg_pz_oz</th>\n",
       "      <th>eog_horizontal</th>\n",
       "      <th>emg_submental</th>\n",
       "      <th>stage</th>\n",
       "    </tr>\n",
       "  </thead>\n",
       "  <tbody>\n",
       "    <tr>\n",
       "      <th>0</th>\n",
       "      <td>1200</td>\n",
       "      <td>1.132891e-06</td>\n",
       "      <td>1.009902e-06</td>\n",
       "      <td>0.000005</td>\n",
       "      <td>0.000003</td>\n",
       "      <td>Sleep stage 3</td>\n",
       "    </tr>\n",
       "    <tr>\n",
       "      <th>1</th>\n",
       "      <td>1201</td>\n",
       "      <td>1.629748e-06</td>\n",
       "      <td>7.367082e-07</td>\n",
       "      <td>0.000006</td>\n",
       "      <td>0.000003</td>\n",
       "      <td>Sleep stage 2</td>\n",
       "    </tr>\n",
       "    <tr>\n",
       "      <th>2</th>\n",
       "      <td>1202</td>\n",
       "      <td>1.450323e-06</td>\n",
       "      <td>8.746676e-07</td>\n",
       "      <td>0.000005</td>\n",
       "      <td>0.000003</td>\n",
       "      <td>Sleep stage 3</td>\n",
       "    </tr>\n",
       "    <tr>\n",
       "      <th>6</th>\n",
       "      <td>1206</td>\n",
       "      <td>1.919015e-06</td>\n",
       "      <td>9.342603e-07</td>\n",
       "      <td>0.000005</td>\n",
       "      <td>0.000004</td>\n",
       "      <td>Sleep stage W</td>\n",
       "    </tr>\n",
       "    <tr>\n",
       "      <th>7</th>\n",
       "      <td>1207</td>\n",
       "      <td>6.934050e-07</td>\n",
       "      <td>7.892454e-07</td>\n",
       "      <td>0.000006</td>\n",
       "      <td>0.000003</td>\n",
       "      <td>Sleep stage 2</td>\n",
       "    </tr>\n",
       "    <tr>\n",
       "      <th>9</th>\n",
       "      <td>1209</td>\n",
       "      <td>5.781559e-07</td>\n",
       "      <td>1.182775e-06</td>\n",
       "      <td>0.000005</td>\n",
       "      <td>0.000003</td>\n",
       "      <td>Sleep stage 3</td>\n",
       "    </tr>\n",
       "    <tr>\n",
       "      <th>12</th>\n",
       "      <td>1212</td>\n",
       "      <td>1.402280e-06</td>\n",
       "      <td>9.091272e-07</td>\n",
       "      <td>0.000005</td>\n",
       "      <td>0.000003</td>\n",
       "      <td>Sleep stage 2</td>\n",
       "    </tr>\n",
       "    <tr>\n",
       "      <th>29</th>\n",
       "      <td>1229</td>\n",
       "      <td>4.556276e-07</td>\n",
       "      <td>1.026344e-06</td>\n",
       "      <td>0.000005</td>\n",
       "      <td>0.000003</td>\n",
       "      <td>Sleep stage 3</td>\n",
       "    </tr>\n",
       "    <tr>\n",
       "      <th>30</th>\n",
       "      <td>1230</td>\n",
       "      <td>1.351356e-06</td>\n",
       "      <td>9.080674e-07</td>\n",
       "      <td>0.000005</td>\n",
       "      <td>0.000003</td>\n",
       "      <td>Sleep stage 2</td>\n",
       "    </tr>\n",
       "    <tr>\n",
       "      <th>34</th>\n",
       "      <td>1234</td>\n",
       "      <td>1.479410e-06</td>\n",
       "      <td>1.000757e-06</td>\n",
       "      <td>0.000006</td>\n",
       "      <td>0.000003</td>\n",
       "      <td>Sleep stage 3</td>\n",
       "    </tr>\n",
       "    <tr>\n",
       "      <th>36</th>\n",
       "      <td>1236</td>\n",
       "      <td>1.242316e-06</td>\n",
       "      <td>8.303062e-07</td>\n",
       "      <td>0.000006</td>\n",
       "      <td>0.000003</td>\n",
       "      <td>Sleep stage 2</td>\n",
       "    </tr>\n",
       "    <tr>\n",
       "      <th>39</th>\n",
       "      <td>1239</td>\n",
       "      <td>1.565513e-06</td>\n",
       "      <td>8.909284e-07</td>\n",
       "      <td>0.000006</td>\n",
       "      <td>0.000003</td>\n",
       "      <td>Sleep stage 3</td>\n",
       "    </tr>\n",
       "    <tr>\n",
       "      <th>41</th>\n",
       "      <td>1241</td>\n",
       "      <td>1.378838e-06</td>\n",
       "      <td>9.246916e-07</td>\n",
       "      <td>0.000005</td>\n",
       "      <td>0.000003</td>\n",
       "      <td>Sleep stage 2</td>\n",
       "    </tr>\n",
       "    <tr>\n",
       "      <th>45</th>\n",
       "      <td>1245</td>\n",
       "      <td>1.780116e-06</td>\n",
       "      <td>8.993465e-07</td>\n",
       "      <td>0.000007</td>\n",
       "      <td>0.000003</td>\n",
       "      <td>Sleep stage W</td>\n",
       "    </tr>\n",
       "    <tr>\n",
       "      <th>47</th>\n",
       "      <td>1247</td>\n",
       "      <td>1.229214e-06</td>\n",
       "      <td>9.507331e-07</td>\n",
       "      <td>0.000006</td>\n",
       "      <td>0.000004</td>\n",
       "      <td>Sleep stage 2</td>\n",
       "    </tr>\n",
       "    <tr>\n",
       "      <th>50</th>\n",
       "      <td>1250</td>\n",
       "      <td>1.741818e-06</td>\n",
       "      <td>2.087013e-07</td>\n",
       "      <td>0.000007</td>\n",
       "      <td>0.000004</td>\n",
       "      <td>Sleep stage W</td>\n",
       "    </tr>\n",
       "    <tr>\n",
       "      <th>53</th>\n",
       "      <td>1253</td>\n",
       "      <td>1.475102e-06</td>\n",
       "      <td>9.140024e-07</td>\n",
       "      <td>0.000005</td>\n",
       "      <td>0.000003</td>\n",
       "      <td>Sleep stage 1</td>\n",
       "    </tr>\n",
       "    <tr>\n",
       "      <th>55</th>\n",
       "      <td>1255</td>\n",
       "      <td>1.679514e-06</td>\n",
       "      <td>9.004972e-07</td>\n",
       "      <td>0.000005</td>\n",
       "      <td>0.000003</td>\n",
       "      <td>Sleep stage 2</td>\n",
       "    </tr>\n",
       "  </tbody>\n",
       "</table>\n",
       "</div>"
      ],
      "text/plain": [
       "    index    eeg_fpz_cz     eeg_pz_oz  eog_horizontal  emg_submental  \\\n",
       "0    1200  1.132891e-06  1.009902e-06        0.000005       0.000003   \n",
       "1    1201  1.629748e-06  7.367082e-07        0.000006       0.000003   \n",
       "2    1202  1.450323e-06  8.746676e-07        0.000005       0.000003   \n",
       "6    1206  1.919015e-06  9.342603e-07        0.000005       0.000004   \n",
       "7    1207  6.934050e-07  7.892454e-07        0.000006       0.000003   \n",
       "9    1209  5.781559e-07  1.182775e-06        0.000005       0.000003   \n",
       "12   1212  1.402280e-06  9.091272e-07        0.000005       0.000003   \n",
       "29   1229  4.556276e-07  1.026344e-06        0.000005       0.000003   \n",
       "30   1230  1.351356e-06  9.080674e-07        0.000005       0.000003   \n",
       "34   1234  1.479410e-06  1.000757e-06        0.000006       0.000003   \n",
       "36   1236  1.242316e-06  8.303062e-07        0.000006       0.000003   \n",
       "39   1239  1.565513e-06  8.909284e-07        0.000006       0.000003   \n",
       "41   1241  1.378838e-06  9.246916e-07        0.000005       0.000003   \n",
       "45   1245  1.780116e-06  8.993465e-07        0.000007       0.000003   \n",
       "47   1247  1.229214e-06  9.507331e-07        0.000006       0.000004   \n",
       "50   1250  1.741818e-06  2.087013e-07        0.000007       0.000004   \n",
       "53   1253  1.475102e-06  9.140024e-07        0.000005       0.000003   \n",
       "55   1255  1.679514e-06  9.004972e-07        0.000005       0.000003   \n",
       "\n",
       "            stage  \n",
       "0   Sleep stage 3  \n",
       "1   Sleep stage 2  \n",
       "2   Sleep stage 3  \n",
       "6   Sleep stage W  \n",
       "7   Sleep stage 2  \n",
       "9   Sleep stage 3  \n",
       "12  Sleep stage 2  \n",
       "29  Sleep stage 3  \n",
       "30  Sleep stage 2  \n",
       "34  Sleep stage 3  \n",
       "36  Sleep stage 2  \n",
       "39  Sleep stage 3  \n",
       "41  Sleep stage 2  \n",
       "45  Sleep stage W  \n",
       "47  Sleep stage 2  \n",
       "50  Sleep stage W  \n",
       "53  Sleep stage 1  \n",
       "55  Sleep stage 2  "
      ]
     },
     "execution_count": 24,
     "metadata": {},
     "output_type": "execute_result"
    }
   ],
   "source": [
    "chunks[20].reset_index().iloc[idxs]"
   ]
  },
  {
   "cell_type": "code",
   "execution_count": 16,
   "metadata": {},
   "outputs": [
    {
     "name": "stdout",
     "output_type": "stream",
     "text": [
      "['Sleep stage W']\n",
      "['Sleep stage W']\n",
      "['Sleep stage W']\n",
      "['Sleep stage W']\n",
      "['Sleep stage W']\n",
      "['Sleep stage W']\n",
      "['Sleep stage W']\n",
      "['Sleep stage W']\n",
      "['Sleep stage W']\n",
      "['Sleep stage W']\n",
      "['Sleep stage W']\n",
      "['Sleep stage W']\n",
      "['Sleep stage W']\n",
      "['Sleep stage W']\n",
      "['Sleep stage W' 'Sleep stage 1' 'Sleep stage 2']\n",
      "['Sleep stage 2' 'Sleep stage 1' 'Sleep stage 3' 'Sleep stage 4']\n",
      "['Sleep stage 4' 'Sleep stage 3' 'Sleep stage 1' 'Sleep stage 2'\n",
      " 'Sleep stage R']\n",
      "['Sleep stage R' 'Sleep stage 1' 'Sleep stage W' 'Sleep stage 2'\n",
      " 'Sleep stage 3']\n",
      "['Sleep stage 3' 'Sleep stage 2' 'Sleep stage 4' 'Sleep stage W']\n",
      "['Sleep stage W' 'Sleep stage 1' 'Sleep stage 2' 'Sleep stage 3']\n",
      "['Sleep stage 3' 'Sleep stage 2' 'Sleep stage W' 'Sleep stage 1']\n",
      "['Sleep stage 1' 'Sleep stage 2' 'Sleep stage R' 'Sleep stage W']\n",
      "['Sleep stage 2' 'Sleep stage 1' 'Sleep stage W']\n",
      "['Sleep stage 2' 'Sleep stage 3' 'Sleep stage W' 'Sleep stage 1']\n",
      "['Sleep stage 2' 'Sleep stage 3' 'Sleep stage 4']\n",
      "['Sleep stage 2' 'Sleep stage 3' 'Sleep stage W' 'Sleep stage 1'\n",
      " 'Sleep stage R']\n",
      "['Sleep stage 2' 'Sleep stage R' 'Sleep stage W' 'Sleep stage 1']\n",
      "['Sleep stage 2' 'Sleep stage W' 'Sleep stage 1']\n",
      "['Sleep stage 1' 'Sleep stage W']\n",
      "['Sleep stage W']\n",
      "['Sleep stage W']\n",
      "['Sleep stage W']\n",
      "['Sleep stage W']\n",
      "['Sleep stage W']\n",
      "['Sleep stage W']\n",
      "['Sleep stage W']\n",
      "['Sleep stage W']\n",
      "['Sleep stage W']\n",
      "['Sleep stage W']\n",
      "['Sleep stage W']\n",
      "['Sleep stage W']\n",
      "['Sleep stage W']\n",
      "['Sleep stage W']\n",
      "['Sleep stage W']\n",
      "['Sleep stage W']\n",
      "['Sleep stage W']\n",
      "['Sleep stage W' 'Sleep stage ?']\n"
     ]
    }
   ],
   "source": [
    "for chunk in chunks:\n",
    "    print(chunk['stage'].unique())"
   ]
  },
  {
   "cell_type": "code",
   "execution_count": 18,
   "metadata": {},
   "outputs": [
    {
     "data": {
      "text/plain": [
       "6798000"
      ]
     },
     "execution_count": 18,
     "metadata": {},
     "output_type": "execute_result"
    }
   ],
   "source": [
    "len(eeg_fpz_cz)\n",
    "len(eeg_pz_oz)\n",
    "len(emg_submental)\n"
   ]
  },
  {
   "cell_type": "code",
   "execution_count": 17,
   "metadata": {},
   "outputs": [
    {
     "data": {
      "text/plain": [
       "8310000"
      ]
     },
     "execution_count": 17,
     "metadata": {},
     "output_type": "execute_result"
    }
   ],
   "source": [
    "len(stages)"
   ]
  }
 ],
 "metadata": {
  "kernelspec": {
   "display_name": "dlsp",
   "language": "python",
   "name": "python3"
  },
  "language_info": {
   "codemirror_mode": {
    "name": "ipython",
    "version": 3
   },
   "file_extension": ".py",
   "mimetype": "text/x-python",
   "name": "python",
   "nbconvert_exporter": "python",
   "pygments_lexer": "ipython3",
   "version": "3.11.0"
  }
 },
 "nbformat": 4,
 "nbformat_minor": 2
}
